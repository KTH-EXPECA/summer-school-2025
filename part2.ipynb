{
  "cells": [
    {
      "cell_type": "markdown",
      "metadata": {
        "id": "VLEVXdbywTOr"
      },
      "source": [
        "<a href=\"https://colab.research.google.com/github/KTH-EXPECA/summer-school-2025/blob/main/part2.ipynb\" target=\"_parent\"><img src=\"https://colab.research.google.com/assets/colab-badge.svg\" alt=\"Open In Colab\"/></a>"
      ],
      "id": "VLEVXdbywTOr"
    },
    {
      "cell_type": "code",
      "execution_count": 1,
      "metadata": {
        "colab": {
          "base_uri": "https://localhost:8080/"
        },
        "id": "nRdCDKmTwTOs",
        "outputId": "4e6721b0-2a47-4be5-8b6f-56dee0459420"
      },
      "outputs": [
        {
          "output_type": "stream",
          "name": "stdout",
          "text": [
            "  % Total    % Received % Xferd  Average Speed   Time    Time     Time  Current\n",
            "                                 Dload  Upload   Total   Spent    Left  Speed\n",
            "  0     0    0     0    0     0      0      0 --:--:-- --:--:-- --:--:--     0\n",
            "100 20.5M  100 20.5M    0     0  15.8M      0  0:00:01  0:00:01 --:--:-- 42.8M\n"
          ]
        }
      ],
      "source": [
        "!mkdir -p /content/data\n",
        "!curl -L -o /content/data/dataset.zip \"https://github.com/KTH-EXPECA/summer-school-2025/raw/refs/heads/main/dataset.zip\"\n",
        "!unzip -q -o /content/data/dataset.zip\n",
        "!rm -rf /content/data\n",
        "!rm -rf /content/__MACOSX"
      ],
      "id": "nRdCDKmTwTOs"
    }
  ],
  "metadata": {
    "kernelspec": {
      "display_name": "Python 3",
      "language": "python",
      "name": "python3"
    },
    "language_info": {
      "codemirror_mode": {
        "name": "ipython",
        "version": 3
      },
      "file_extension": ".py",
      "mimetype": "text/x-python",
      "name": "python",
      "nbconvert_exporter": "python",
      "pygments_lexer": "ipython3",
      "version": "3.x"
    },
    "colab": {
      "provenance": []
    }
  },
  "nbformat": 4,
  "nbformat_minor": 5
}