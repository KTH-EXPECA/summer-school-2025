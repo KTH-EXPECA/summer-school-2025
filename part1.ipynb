{
  "cells": [
    {
      "cell_type": "markdown",
      "metadata": {
        "id": "Pi1aCAK8vPDY"
      },
      "source": [
        "<a href=\"https://colab.research.google.com/github/KTH-EXPECA/summer-school-2025/blob/main/part1.ipynb\" target=\"_parent\"><img src=\"https://colab.research.google.com/assets/colab-badge.svg\" alt=\"Open In Colab\"/></a>"
      ],
      "id": "Pi1aCAK8vPDY"
    },
    {
      "cell_type": "code",
      "execution_count": 8,
      "metadata": {
        "colab": {
          "base_uri": "https://localhost:8080/"
        },
        "id": "f6FuixFFvPDY",
        "outputId": "98f5c44d-fdc5-4529-9601-ae2609166683"
      },
      "outputs": [
        {
          "output_type": "stream",
          "name": "stdout",
          "text": [
            "  % Total    % Received % Xferd  Average Speed   Time    Time     Time  Current\n",
            "                                 Dload  Upload   Total   Spent    Left  Speed\n",
            "  0     0    0     0    0     0      0      0 --:--:-- --:--:-- --:--:--     0\n",
            "100 20.5M  100 20.5M    0     0  35.4M      0 --:--:-- --:--:-- --:--:-- 35.4M\n"
          ]
        }
      ],
      "source": [
        "!mkdir -p /content/data\n",
        "!curl -L -o /content/data/dataset.zip \"https://github.com/KTH-EXPECA/summer-school-2025/raw/refs/heads/main/dataset.zip\"\n",
        "!unzip -q -o /content/data/dataset.zip\n",
        "!rm -rf /content/data\n",
        "!rm -rf /content/__MACOSX\n"
      ],
      "id": "f6FuixFFvPDY"
    }
  ],
  "metadata": {
    "kernelspec": {
      "display_name": "Python 3",
      "language": "python",
      "name": "python3"
    },
    "language_info": {
      "codemirror_mode": {
        "name": "ipython",
        "version": 3
      },
      "file_extension": ".py",
      "mimetype": "text/x-python",
      "name": "python",
      "nbconvert_exporter": "python",
      "pygments_lexer": "ipython3",
      "version": "3.x"
    },
    "colab": {
      "provenance": []
    }
  },
  "nbformat": 4,
  "nbformat_minor": 5
}